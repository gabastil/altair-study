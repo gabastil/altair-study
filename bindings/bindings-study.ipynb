{
 "cells": [
  {
   "cell_type": "markdown",
   "metadata": {},
   "source": [
    "# Bindings Study\n",
    "---\n",
    "Glenn Abastillas | April 10, 2020\n",
    "\n",
    "  * Selection\n",
    "  * Scale\n",
    "  * Slider\n",
    "  * Drop-down Menu\n",
    "\n",
    "\n",
    "<a id='load-data'></a>\n",
    "#### Load Data"
   ]
  },
  {
   "cell_type": "code",
   "execution_count": 44,
   "metadata": {},
   "outputs": [],
   "source": [
    "import pandas as pd\n",
    "import geopandas as gpd\n",
    "import numpy as np\n",
    "import altair as alt\n",
    "import json"
   ]
  },
  {
   "cell_type": "markdown",
   "metadata": {},
   "source": [
    "Define data paths."
   ]
  },
  {
   "cell_type": "code",
   "execution_count": 3,
   "metadata": {},
   "outputs": [],
   "source": [
    "p = '../../odi-covid-19/data/datasets/demographics/gpw_v4_admin_unit_center_points_population_estimates_rev11_gnb.csv'\n",
    "data = pd.read_csv(p)"
   ]
  },
  {
   "cell_type": "markdown",
   "metadata": {},
   "source": [
    "Melt data"
   ]
  },
  {
   "cell_type": "code",
   "execution_count": 32,
   "metadata": {},
   "outputs": [],
   "source": [
    "col_estimate = data.filter(regex=r'UN.*_E$').columns\n",
    "col_names = data.filter(regex=r'NAME[12]').columns\n",
    "\n",
    "# Subset then melt data by NAME# columns\n",
    "current = data[np.append(col_names, col_estimate)].melt(col_names)\n",
    "\n",
    "# Rename columns\n",
    "current.columns = 'region sector year population'.split()\n",
    "\n",
    "# Process columns\n",
    "current.year = current.year.str.extract(r'UN_(\\d{4})_E').astype('int')\n",
    "current.population = current.population.astype('int')"
   ]
  },
  {
   "cell_type": "markdown",
   "metadata": {},
   "source": [
    "Define altair charts"
   ]
  },
  {
   "cell_type": "code",
   "execution_count": 34,
   "metadata": {},
   "outputs": [],
   "source": [
    "base = alt.Chart(current)\n",
    "\n",
    "bar = base.mark_bar()\n",
    "line = base.mark_line()"
   ]
  },
  {
   "cell_type": "markdown",
   "metadata": {},
   "source": [
    "Define selectors"
   ]
  },
  {
   "cell_type": "code",
   "execution_count": 36,
   "metadata": {},
   "outputs": [],
   "source": [
    "slider = alt.binding_range(**{'min' : current.year.min(), 'max' : current.year.max(), 'step' : 5 })"
   ]
  },
  {
   "cell_type": "markdown",
   "metadata": {},
   "source": [
    "\n",
    "<a id='slider'></a>\n",
    "#### Slider"
   ]
  },
  {
   "cell_type": "code",
   "execution_count": 46,
   "metadata": {},
   "outputs": [
    {
     "data": {
      "application/javascript": [
       "const spec = {\"config\": {\"view\": {\"width\": 400, \"height\": 300}, \"mark\": {\"tooltip\": null}}, \"data\": {\"name\": \"data-b371316e19410a37276d8e3065bcecd9\"}, \"mark\": \"bar\", \"encoding\": {\"x\": {\"type\": \"quantitative\", \"field\": \"year\"}, \"y\": {\"type\": \"quantitative\", \"field\": \"population\"}}, \"$schema\": \"https://vega.github.io/schema/vega-lite/v3.4.0.json\", \"datasets\": {\"data-b371316e19410a37276d8e3065bcecd9\": [{\"region\": \"Tombali\", \"sector\": \"Komo\", \"year\": 2000, \"population\": 8935}, {\"region\": \"Bafata\", \"sector\": \"Galomaro/Cosse\", \"year\": 2000, \"population\": 15172}, {\"region\": \"Gabu\", \"sector\": \"Gabu\", \"year\": 2000, \"population\": 66138}, {\"region\": \"Cacheu/Calequisse\", \"sector\": \"Sao Domingos\", \"year\": 2000, \"population\": 29697}, {\"region\": \"Tombali\", \"sector\": \"Cacine\", \"year\": 2000, \"population\": 15569}, {\"region\": \"Cacheu/Calequisse\", \"sector\": \"Bula\", \"year\": 2000, \"population\": 26307}, {\"region\": \"Oio\", \"sector\": \"Bissora\", \"year\": 2000, \"population\": 55375}, {\"region\": \"Bissau\", \"sector\": \"Sector Autonomo de Bissau\", \"year\": 2000, \"population\": 296266}, {\"region\": \"Biombo\", \"sector\": \"Safim\", \"year\": 2000, \"population\": 15698}, {\"region\": \"Tombali\", \"sector\": \"Bedanda\", \"year\": 2000, \"population\": 23486}, {\"region\": \"Oio\", \"sector\": \"Nhacra\", \"year\": 2000, \"population\": 21385}, {\"region\": \"Gabu\", \"sector\": \"Pirada\", \"year\": 2000, \"population\": 28836}, {\"region\": \"Bafata\", \"sector\": \"Bambadinca\", \"year\": 2000, \"population\": 30448}, {\"region\": \"Oio\", \"sector\": \"Mansoa\", \"year\": 2000, \"population\": 38718}, {\"region\": \"Tombali\", \"sector\": \"Quebo\", \"year\": 2000, \"population\": 13676}, {\"region\": \"Bolama/Bijagos\", \"sector\": \"Caravela\", \"year\": 2000, \"population\": 4263}, {\"region\": \"Quinara\", \"sector\": \"Tite\", \"year\": 2000, \"population\": 15702}, {\"region\": \"Cacheu/Calequisse\", \"sector\": \"Cacheu/Calequisse\", \"year\": 2000, \"population\": 19151}, {\"region\": \"Gabu\", \"sector\": \"Boe\", \"year\": 2000, \"population\": 10956}, {\"region\": \"Bolama/Bijagos\", \"sector\": \"Bubaque\", \"year\": 2000, \"population\": 11203}, {\"region\": \"Oio\", \"sector\": \"Farim\", \"year\": 2000, \"population\": 46426}, {\"region\": \"Bolama/Bijagos\", \"sector\": \"Uno\", \"year\": 2000, \"population\": 6750}, {\"region\": \"Oio\", \"sector\": \"Mansaba\", \"year\": 2000, \"population\": 40605}, {\"region\": \"Tombali\", \"sector\": \"Catio\", \"year\": 2000, \"population\": 27485}, {\"region\": \"Cacheu/Calequisse\", \"sector\": \"Caio\", \"year\": 2000, \"population\": 13921}, {\"region\": \"Gabu\", \"sector\": \"Pitche\", \"year\": 2000, \"population\": 40780}, {\"region\": \"Biombo\", \"sector\": \"Quinhamel\", \"year\": 2000, \"population\": 42434}, {\"region\": \"Cacheu/Calequisse\", \"sector\": \"Bigene\", \"year\": 2000, \"population\": 48714}, {\"region\": \"Bolama/Bijagos\", \"sector\": \"Bolama\", \"year\": 2000, \"population\": 10534}, {\"region\": \"Biombo\", \"sector\": \"Prabis\", \"year\": 2000, \"population\": 23836}, {\"region\": \"Quinara\", \"sector\": \"Empada\", \"year\": 2000, \"population\": 16550}, {\"region\": \"Cacheu/Calequisse\", \"sector\": \"Canchungo\", \"year\": 2000, \"population\": 44575}, {\"region\": \"Bafata\", \"sector\": \"Bafata\", \"year\": 2000, \"population\": 62982}, {\"region\": \"Bafata\", \"sector\": \"Contuboel\", \"year\": 2000, \"population\": 42234}, {\"region\": \"Gabu\", \"sector\": \"Sonaco\", \"year\": 2000, \"population\": 38106}, {\"region\": \"Bafata\", \"sector\": \"Gamamudo/Ganadu\", \"year\": 2000, \"population\": 23914}, {\"region\": \"Quinara\", \"sector\": \"Fulacunda\", \"year\": 2000, \"population\": 9719}, {\"region\": \"Quinara\", \"sector\": \"Buba\", \"year\": 2000, \"population\": 14491}, {\"region\": \"Bafata\", \"sector\": \"Xitole\", \"year\": 2000, \"population\": 14417}, {\"region\": \"Tombali\", \"sector\": \"Komo\", \"year\": 2005, \"population\": 9333}, {\"region\": \"Bafata\", \"sector\": \"Galomaro/Cosse\", \"year\": 2005, \"population\": 15640}, {\"region\": \"Gabu\", \"sector\": \"Gabu\", \"year\": 2005, \"population\": 78353}, {\"region\": \"Cacheu/Calequisse\", \"sector\": \"Sao Domingos\", \"year\": 2005, \"population\": 30986}, {\"region\": \"Tombali\", \"sector\": \"Cacine\", \"year\": 2005, \"population\": 16471}, {\"region\": \"Cacheu/Calequisse\", \"sector\": \"Bula\", \"year\": 2005, \"population\": 29608}, {\"region\": \"Oio\", \"sector\": \"Bissora\", \"year\": 2005, \"population\": 59123}, {\"region\": \"Bissau\", \"sector\": \"Sector Autonomo de Bissau\", \"year\": 2005, \"population\": 351003}, {\"region\": \"Biombo\", \"sector\": \"Safim\", \"year\": 2005, \"population\": 17510}, {\"region\": \"Tombali\", \"sector\": \"Bedanda\", \"year\": 2005, \"population\": 25246}, {\"region\": \"Oio\", \"sector\": \"Nhacra\", \"year\": 2005, \"population\": 22119}, {\"region\": \"Gabu\", \"sector\": \"Pirada\", \"year\": 2005, \"population\": 31002}, {\"region\": \"Bafata\", \"sector\": \"Bambadinca\", \"year\": 2005, \"population\": 32925}, {\"region\": \"Oio\", \"sector\": \"Mansoa\", \"year\": 2005, \"population\": 43700}, {\"region\": \"Tombali\", \"sector\": \"Quebo\", \"year\": 2005, \"population\": 15396}, {\"region\": \"Bolama/Bijagos\", \"sector\": \"Caravela\", \"year\": 2005, \"population\": 4497}, {\"region\": \"Quinara\", \"sector\": \"Tite\", \"year\": 2005, \"population\": 16066}, {\"region\": \"Cacheu/Calequisse\", \"sector\": \"Cacheu/Calequisse\", \"year\": 2005, \"population\": 19856}, {\"region\": \"Gabu\", \"sector\": \"Boe\", \"year\": 2005, \"population\": 11512}, {\"region\": \"Bolama/Bijagos\", \"sector\": \"Bubaque\", \"year\": 2005, \"population\": 11819}, {\"region\": \"Oio\", \"sector\": \"Farim\", \"year\": 2005, \"population\": 50044}, {\"region\": \"Bolama/Bijagos\", \"sector\": \"Uno\", \"year\": 2005, \"population\": 7122}, {\"region\": \"Oio\", \"sector\": \"Mansaba\", \"year\": 2005, \"population\": 45935}, {\"region\": \"Tombali\", \"sector\": \"Catio\", \"year\": 2005, \"population\": 28709}, {\"region\": \"Cacheu/Calequisse\", \"sector\": \"Caio\", \"year\": 2005, \"population\": 13953}, {\"region\": \"Gabu\", \"sector\": \"Pitche\", \"year\": 2005, \"population\": 45771}, {\"region\": \"Biombo\", \"sector\": \"Quinhamel\", \"year\": 2005, \"population\": 44897}, {\"region\": \"Cacheu/Calequisse\", \"sector\": \"Bigene\", \"year\": 2005, \"population\": 52953}, {\"region\": \"Bolama/Bijagos\", \"sector\": \"Bolama\", \"year\": 2005, \"population\": 10919}, {\"region\": \"Biombo\", \"sector\": \"Prabis\", \"year\": 2005, \"population\": 30138}, {\"region\": \"Quinara\", \"sector\": \"Empada\", \"year\": 2005, \"population\": 18019}, {\"region\": \"Cacheu/Calequisse\", \"sector\": \"Canchungo\", \"year\": 2005, \"population\": 46514}, {\"region\": \"Bafata\", \"sector\": \"Bafata\", \"year\": 2005, \"population\": 69873}, {\"region\": \"Bafata\", \"sector\": \"Contuboel\", \"year\": 2005, \"population\": 45607}, {\"region\": \"Gabu\", \"sector\": \"Sonaco\", \"year\": 2005, \"population\": 40022}, {\"region\": \"Bafata\", \"sector\": \"Gamamudo/Ganadu\", \"year\": 2005, \"population\": 25607}, {\"region\": \"Quinara\", \"sector\": \"Fulacunda\", \"year\": 2005, \"population\": 11135}, {\"region\": \"Quinara\", \"sector\": \"Buba\", \"year\": 2005, \"population\": 16772}, {\"region\": \"Bafata\", \"sector\": \"Xitole\", \"year\": 2005, \"population\": 16628}, {\"region\": \"Tombali\", \"sector\": \"Komo\", \"year\": 2010, \"population\": 9766}, {\"region\": \"Bafata\", \"sector\": \"Galomaro/Cosse\", \"year\": 2010, \"population\": 16152}, {\"region\": \"Gabu\", \"sector\": \"Gabu\", \"year\": 2010, \"population\": 92994}, {\"region\": \"Cacheu/Calequisse\", \"sector\": \"Sao Domingos\", \"year\": 2010, \"population\": 32391}, {\"region\": \"Tombali\", \"sector\": \"Cacine\", \"year\": 2010, \"population\": 17456}, {\"region\": \"Cacheu/Calequisse\", \"sector\": \"Bula\", \"year\": 2010, \"population\": 33383}, {\"region\": \"Oio\", \"sector\": \"Bissora\", \"year\": 2010, \"population\": 63240}, {\"region\": \"Bissau\", \"sector\": \"Sector Autonomo de Bissau\", \"year\": 2010, \"population\": 416617}, {\"region\": \"Biombo\", \"sector\": \"Safim\", \"year\": 2010, \"population\": 19568}, {\"region\": \"Tombali\", \"sector\": \"Bedanda\", \"year\": 2010, \"population\": 27187}, {\"region\": \"Oio\", \"sector\": \"Nhacra\", \"year\": 2010, \"population\": 22920}, {\"region\": \"Gabu\", \"sector\": \"Pirada\", \"year\": 2010, \"population\": 33393}, {\"region\": \"Bafata\", \"sector\": \"Bambadinca\", \"year\": 2010, \"population\": 35669}, {\"region\": \"Oio\", \"sector\": \"Mansoa\", \"year\": 2010, \"population\": 49414}, {\"region\": \"Tombali\", \"sector\": \"Quebo\", \"year\": 2010, \"population\": 17363}, {\"region\": \"Bolama/Bijagos\", \"sector\": \"Caravela\", \"year\": 2010, \"population\": 4753}, {\"region\": \"Quinara\", \"sector\": \"Tite\", \"year\": 2010, \"population\": 16469}, {\"region\": \"Cacheu/Calequisse\", \"sector\": \"Cacheu/Calequisse\", \"year\": 2010, \"population\": 20625}, {\"region\": \"Gabu\", \"sector\": \"Boe\", \"year\": 2010, \"population\": 12119}, {\"region\": \"Bolama/Bijagos\", \"sector\": \"Bubaque\", \"year\": 2010, \"population\": 12492}, {\"region\": \"Oio\", \"sector\": \"Farim\", \"year\": 2010, \"population\": 54044}, {\"region\": \"Bolama/Bijagos\", \"sector\": \"Uno\", \"year\": 2010, \"population\": 7527}, {\"region\": \"Oio\", \"sector\": \"Mansaba\", \"year\": 2010, \"population\": 52060}, {\"region\": \"Tombali\", \"sector\": \"Catio\", \"year\": 2010, \"population\": 30042}, {\"region\": \"Cacheu/Calequisse\", \"sector\": \"Caio\", \"year\": 2010, \"population\": 14011}, {\"region\": \"Gabu\", \"sector\": \"Pitche\", \"year\": 2010, \"population\": 51468}, {\"region\": \"Biombo\", \"sector\": \"Quinhamel\", \"year\": 2010, \"population\": 47590}, {\"region\": \"Cacheu/Calequisse\", \"sector\": \"Bigene\", \"year\": 2010, \"population\": 57665}, {\"region\": \"Bolama/Bijagos\", \"sector\": \"Bolama\", \"year\": 2010, \"population\": 11339}, {\"region\": \"Biombo\", \"sector\": \"Prabis\", \"year\": 2010, \"population\": 38178}, {\"region\": \"Quinara\", \"sector\": \"Empada\", \"year\": 2010, \"population\": 19654}, {\"region\": \"Cacheu/Calequisse\", \"sector\": \"Canchungo\", \"year\": 2010, \"population\": 48626}, {\"region\": \"Bafata\", \"sector\": \"Bafata\", \"year\": 2010, \"population\": 77659}, {\"region\": \"Bafata\", \"sector\": \"Contuboel\", \"year\": 2010, \"population\": 49340}, {\"region\": \"Gabu\", \"sector\": \"Sonaco\", \"year\": 2010, \"population\": 42112}, {\"region\": \"Bafata\", \"sector\": \"Gamamudo/Ganadu\", \"year\": 2010, \"population\": 27469}, {\"region\": \"Quinara\", \"sector\": \"Fulacunda\", \"year\": 2010, \"population\": 12780}, {\"region\": \"Quinara\", \"sector\": \"Buba\", \"year\": 2010, \"population\": 19448}, {\"region\": \"Bafata\", \"sector\": \"Xitole\", \"year\": 2010, \"population\": 19213}, {\"region\": \"Tombali\", \"sector\": \"Komo\", \"year\": 2015, \"population\": 10295}, {\"region\": \"Bafata\", \"sector\": \"Galomaro/Cosse\", \"year\": 2015, \"population\": 16803}, {\"region\": \"Gabu\", \"sector\": \"Gabu\", \"year\": 2015, \"population\": 111180}, {\"region\": \"Cacheu/Calequisse\", \"sector\": \"Sao Domingos\", \"year\": 2015, \"population\": 34108}, {\"region\": \"Tombali\", \"sector\": \"Cacine\", \"year\": 2015, \"population\": 18636}, {\"region\": \"Cacheu/Calequisse\", \"sector\": \"Bula\", \"year\": 2015, \"population\": 37916}, {\"region\": \"Oio\", \"sector\": \"Bissora\", \"year\": 2015, \"population\": 68140}, {\"region\": \"Bissau\", \"sector\": \"Sector Autonomo de Bissau\", \"year\": 2015, \"population\": 498121}, {\"region\": \"Biombo\", \"sector\": \"Safim\", \"year\": 2015, \"population\": 22028}, {\"region\": \"Tombali\", \"sector\": \"Bedanda\", \"year\": 2015, \"population\": 29492}, {\"region\": \"Oio\", \"sector\": \"Nhacra\", \"year\": 2015, \"population\": 23925}, {\"region\": \"Gabu\", \"sector\": \"Pirada\", \"year\": 2015, \"population\": 36231}, {\"region\": \"Bafata\", \"sector\": \"Bambadinca\", \"year\": 2015, \"population\": 38925}, {\"region\": \"Oio\", \"sector\": \"Mansoa\", \"year\": 2015, \"population\": 56284}, {\"region\": \"Tombali\", \"sector\": \"Quebo\", \"year\": 2015, \"population\": 19725}, {\"region\": \"Bolama/Bijagos\", \"sector\": \"Caravela\", \"year\": 2015, \"population\": 5060}, {\"region\": \"Quinara\", \"sector\": \"Tite\", \"year\": 2015, \"population\": 17006}, {\"region\": \"Cacheu/Calequisse\", \"sector\": \"Cacheu/Calequisse\", \"year\": 2015, \"population\": 21580}, {\"region\": \"Gabu\", \"sector\": \"Boe\", \"year\": 2015, \"population\": 12851}, {\"region\": \"Bolama/Bijagos\", \"sector\": \"Bubaque\", \"year\": 2015, \"population\": 13300}, {\"region\": \"Oio\", \"sector\": \"Farim\", \"year\": 2015, \"population\": 58790}, {\"region\": \"Bolama/Bijagos\", \"sector\": \"Uno\", \"year\": 2015, \"population\": 8014}, {\"region\": \"Oio\", \"sector\": \"Mansaba\", \"year\": 2015, \"population\": 59435}, {\"region\": \"Tombali\", \"sector\": \"Catio\", \"year\": 2015, \"population\": 31668}, {\"region\": \"Cacheu/Calequisse\", \"sector\": \"Caio\", \"year\": 2015, \"population\": 14172}, {\"region\": \"Gabu\", \"sector\": \"Pitche\", \"year\": 2015, \"population\": 58299}, {\"region\": \"Biombo\", \"sector\": \"Quinhamel\", \"year\": 2015, \"population\": 50814}, {\"region\": \"Cacheu/Calequisse\", \"sector\": \"Bigene\", \"year\": 2015, \"population\": 63258}, {\"region\": \"Bolama/Bijagos\", \"sector\": \"Bolama\", \"year\": 2015, \"population\": 11861}, {\"region\": \"Biombo\", \"sector\": \"Prabis\", \"year\": 2015, \"population\": 48716}, {\"region\": \"Quinara\", \"sector\": \"Empada\", \"year\": 2015, \"population\": 21595}, {\"region\": \"Cacheu/Calequisse\", \"sector\": \"Canchungo\", \"year\": 2015, \"population\": 51207}, {\"region\": \"Bafata\", \"sector\": \"Bafata\", \"year\": 2015, \"population\": 86946}, {\"region\": \"Bafata\", \"sector\": \"Contuboel\", \"year\": 2015, \"population\": 53771}, {\"region\": \"Gabu\", \"sector\": \"Sonaco\", \"year\": 2015, \"population\": 44635}, {\"region\": \"Bafata\", \"sector\": \"Gamamudo/Ganadu\", \"year\": 2015, \"population\": 29683}, {\"region\": \"Quinara\", \"sector\": \"Fulacunda\", \"year\": 2015, \"population\": 14776}, {\"region\": \"Quinara\", \"sector\": \"Buba\", \"year\": 2015, \"population\": 22717}, {\"region\": \"Bafata\", \"sector\": \"Xitole\", \"year\": 2015, \"population\": 22363}, {\"region\": \"Tombali\", \"sector\": \"Komo\", \"year\": 2020, \"population\": 10753}, {\"region\": \"Bafata\", \"sector\": \"Galomaro/Cosse\", \"year\": 2020, \"population\": 17320}, {\"region\": \"Gabu\", \"sector\": \"Gabu\", \"year\": 2020, \"population\": 131708}, {\"region\": \"Cacheu/Calequisse\", \"sector\": \"Sao Domingos\", \"year\": 2020, \"population\": 35587}, {\"region\": \"Tombali\", \"sector\": \"Cacine\", \"year\": 2020, \"population\": 19714}, {\"region\": \"Cacheu/Calequisse\", \"sector\": \"Bula\", \"year\": 2020, \"population\": 42671}, {\"region\": \"Oio\", \"sector\": \"Bissora\", \"year\": 2020, \"population\": 72748}, {\"region\": \"Bissau\", \"sector\": \"Sector Autonomo de Bissau\", \"year\": 2020, \"population\": 590127}, {\"region\": \"Biombo\", \"sector\": \"Safim\", \"year\": 2020, \"population\": 24570}, {\"region\": \"Tombali\", \"sector\": \"Bedanda\", \"year\": 2020, \"population\": 31700}, {\"region\": \"Oio\", \"sector\": \"Nhacra\", \"year\": 2020, \"population\": 24745}, {\"region\": \"Gabu\", \"sector\": \"Pirada\", \"year\": 2020, \"population\": 38950}, {\"region\": \"Bafata\", \"sector\": \"Bambadinca\", \"year\": 2020, \"population\": 42090}, {\"region\": \"Oio\", \"sector\": \"Mansoa\", \"year\": 2020, \"population\": 63523}, {\"region\": \"Tombali\", \"sector\": \"Quebo\", \"year\": 2020, \"population\": 22203}, {\"region\": \"Bolama/Bijagos\", \"sector\": \"Caravela\", \"year\": 2020, \"population\": 5338}, {\"region\": \"Quinara\", \"sector\": \"Tite\", \"year\": 2020, \"population\": 17400}, {\"region\": \"Cacheu/Calequisse\", \"sector\": \"Cacheu/Calequisse\", \"year\": 2020, \"population\": 22374}, {\"region\": \"Gabu\", \"sector\": \"Boe\", \"year\": 2020, \"population\": 13502}, {\"region\": \"Bolama/Bijagos\", \"sector\": \"Bubaque\", \"year\": 2020, \"population\": 14030}, {\"region\": \"Oio\", \"sector\": \"Farim\", \"year\": 2020, \"population\": 63369}, {\"region\": \"Bolama/Bijagos\", \"sector\": \"Uno\", \"year\": 2020, \"population\": 8454}, {\"region\": \"Oio\", \"sector\": \"Mansaba\", \"year\": 2020, \"population\": 67234}, {\"region\": \"Tombali\", \"sector\": \"Catio\", \"year\": 2020, \"population\": 33077}, {\"region\": \"Cacheu/Calequisse\", \"sector\": \"Caio\", \"year\": 2020, \"population\": 14204}, {\"region\": \"Gabu\", \"sector\": \"Pitche\", \"year\": 2020, \"population\": 65432}, {\"region\": \"Biombo\", \"sector\": \"Quinhamel\", \"year\": 2020, \"population\": 53760}, {\"region\": \"Cacheu/Calequisse\", \"sector\": \"Bigene\", \"year\": 2020, \"population\": 68758}, {\"region\": \"Bolama/Bijagos\", \"sector\": \"Bolama\", \"year\": 2020, \"population\": 12294}, {\"region\": \"Biombo\", \"sector\": \"Prabis\", \"year\": 2020, \"population\": 61595}, {\"region\": \"Quinara\", \"sector\": \"Empada\", \"year\": 2020, \"population\": 23510}, {\"region\": \"Cacheu/Calequisse\", \"sector\": \"Canchungo\", \"year\": 2020, \"population\": 53433}, {\"region\": \"Bafata\", \"sector\": \"Bafata\", \"year\": 2020, \"population\": 96454}, {\"region\": \"Bafata\", \"sector\": \"Contuboel\", \"year\": 2020, \"population\": 58063}, {\"region\": \"Gabu\", \"sector\": \"Sonaco\", \"year\": 2020, \"population\": 46878}, {\"region\": \"Bafata\", \"sector\": \"Gamamudo/Ganadu\", \"year\": 2020, \"population\": 31781}, {\"region\": \"Quinara\", \"sector\": \"Fulacunda\", \"year\": 2020, \"population\": 16927}, {\"region\": \"Quinara\", \"sector\": \"Buba\", \"year\": 2020, \"population\": 26292}, {\"region\": \"Bafata\", \"sector\": \"Xitole\", \"year\": 2020, \"population\": 25792}]}};\n",
       "const opt = {};\n",
       "const type = \"vega-lite\";\n",
       "const id = \"e3764674-358c-4d8e-95b6-39a359796da2\";\n",
       "\n",
       "const output_area = this;\n",
       "\n",
       "require([\"nbextensions/jupyter-vega/index\"], function(vega) {\n",
       "  const target = document.createElement(\"div\");\n",
       "  target.id = id;\n",
       "  target.className = \"vega-embed\";\n",
       "\n",
       "  const style = document.createElement(\"style\");\n",
       "  style.textContent = [\n",
       "    \".vega-embed .error p {\",\n",
       "    \"  color: firebrick;\",\n",
       "    \"  font-size: 14px;\",\n",
       "    \"}\",\n",
       "  ].join(\"\\\\n\");\n",
       "\n",
       "  // element is a jQuery wrapped DOM element inside the output area\n",
       "  // see http://ipython.readthedocs.io/en/stable/api/generated/\\\n",
       "  // IPython.display.html#IPython.display.Javascript.__init__\n",
       "  element[0].appendChild(target);\n",
       "  element[0].appendChild(style);\n",
       "\n",
       "  vega.render(\"#\" + id, spec, type, opt, output_area);\n",
       "}, function (err) {\n",
       "  if (err.requireType !== \"scripterror\") {\n",
       "    throw(err);\n",
       "  }\n",
       "});\n"
      ],
      "text/plain": [
       "<vega.vegalite.VegaLite at 0x11a680b00>"
      ]
     },
     "metadata": {
      "jupyter-vega": "#e3764674-358c-4d8e-95b6-39a359796da2"
     },
     "output_type": "display_data"
    },
    {
     "data": {
      "text/plain": []
     },
     "execution_count": 46,
     "metadata": {},
     "output_type": "execute_result"
    }
   ],
   "source": [
    "selection = alt.selection_single(bind=slider, fields=['year'], init={'year' : 2010})\n",
    "\n",
    "bar.encode(x='year:Q', y='population:Q')"
   ]
  },
  {
   "cell_type": "markdown",
   "metadata": {},
   "source": [
    "\n",
    "<a id='drop-down-menu'></a>\n",
    "#### Drop-down-menu"
   ]
  },
  {
   "cell_type": "code",
   "execution_count": null,
   "metadata": {},
   "outputs": [],
   "source": []
  },
  {
   "cell_type": "markdown",
   "metadata": {},
   "source": [
    "<a id='selection'></a>\n",
    "#### Selection"
   ]
  },
  {
   "cell_type": "code",
   "execution_count": null,
   "metadata": {},
   "outputs": [],
   "source": []
  },
  {
   "cell_type": "markdown",
   "metadata": {},
   "source": [
    "\n",
    "<a id='scale'></a>\n",
    "#### Scale"
   ]
  },
  {
   "cell_type": "code",
   "execution_count": null,
   "metadata": {},
   "outputs": [],
   "source": []
  }
 ],
 "metadata": {
  "kernelspec": {
   "display_name": "Python 3",
   "language": "python",
   "name": "python3"
  },
  "language_info": {
   "codemirror_mode": {
    "name": "ipython",
    "version": 3
   },
   "file_extension": ".py",
   "mimetype": "text/x-python",
   "name": "python",
   "nbconvert_exporter": "python",
   "pygments_lexer": "ipython3",
   "version": "3.6.9"
  }
 },
 "nbformat": 4,
 "nbformat_minor": 2
}
